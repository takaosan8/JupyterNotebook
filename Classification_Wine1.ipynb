{
 "cells": [
  {
   "cell_type": "markdown",
   "metadata": {},
   "source": [
    "## Crassification Wine\n",
    "　　　From SIGNATE　【練習問題】ワインの品種の予測"
   ]
  },
  {
   "cell_type": "markdown",
   "metadata": {},
   "source": [
    "※ SIGNATEから元データの再配布が認められていないため、このノートブックで解析している元データ(csvファイル、tsvファイル)についてはお手数ですがSIGNATEの【練習問題】サイトからダウンロードして、このipynbファイルと同じ場所に入れてから実行してください。"
   ]
  },
  {
   "cell_type": "code",
   "execution_count": null,
   "metadata": {},
   "outputs": [],
   "source": [
    "# 基本ライブラリの読み込み\n",
    "import numpy as np\n",
    "import pandas as pd"
   ]
  },
  {
   "cell_type": "code",
   "execution_count": null,
   "metadata": {},
   "outputs": [],
   "source": [
    "# train.tsvの読み込み\n",
    "df_train = pd.read_csv(\"train.tsv\", sep=\"\\t\")\n",
    "df_train.head()"
   ]
  },
  {
   "cell_type": "code",
   "execution_count": null,
   "metadata": {},
   "outputs": [],
   "source": [
    "# インデックスとbot（目的変数）を説明変数から削除してtrainXに代入する\n",
    "trainX = df_train.iloc[:, 2:]\n",
    "trainX.head()"
   ]
  },
  {
   "cell_type": "code",
   "execution_count": null,
   "metadata": {},
   "outputs": [],
   "source": [
    "trainX.shape"
   ]
  },
  {
   "cell_type": "code",
   "execution_count": null,
   "metadata": {},
   "outputs": [],
   "source": [
    "trainX.describe()"
   ]
  },
  {
   "cell_type": "code",
   "execution_count": null,
   "metadata": {},
   "outputs": [],
   "source": [
    "trainX.info()"
   ]
  },
  {
   "cell_type": "code",
   "execution_count": null,
   "metadata": {},
   "outputs": [],
   "source": [
    "trainX.isnull().sum()"
   ]
  },
  {
   "cell_type": "code",
   "execution_count": null,
   "metadata": {},
   "outputs": [],
   "source": [
    "# 目的変数をyに代入する\n",
    "y = df_train.iloc[:,[1]]\n",
    "display(y.head())"
   ]
  },
  {
   "cell_type": "code",
   "execution_count": null,
   "metadata": {},
   "outputs": [],
   "source": [
    "# test.tsvの読み込み\n",
    "df_test = pd.read_csv(\"test.tsv\", sep=\"\\t\")\n",
    "df_test.head()"
   ]
  },
  {
   "cell_type": "code",
   "execution_count": null,
   "metadata": {},
   "outputs": [],
   "source": [
    "testX = df_test.iloc[:, 1:]\n",
    "testX.head()"
   ]
  },
  {
   "cell_type": "code",
   "execution_count": null,
   "metadata": {},
   "outputs": [],
   "source": [
    "testX.shape"
   ]
  },
  {
   "cell_type": "code",
   "execution_count": null,
   "metadata": {},
   "outputs": [],
   "source": [
    "testX.describe()"
   ]
  },
  {
   "cell_type": "code",
   "execution_count": null,
   "metadata": {},
   "outputs": [],
   "source": [
    "testX.info()"
   ]
  },
  {
   "cell_type": "code",
   "execution_count": null,
   "metadata": {},
   "outputs": [],
   "source": [
    "testX.isnull().sum()"
   ]
  },
  {
   "cell_type": "code",
   "execution_count": null,
   "metadata": {},
   "outputs": [],
   "source": [
    "# 交叉検証　Holdout法\n",
    "from sklearn.model_selection import train_test_split\n",
    "X_train,X_test,y_train,y_test = train_test_split(trainX,\n",
    "                                                 y,\n",
    "                                                 test_size=0.30,\n",
    "                                                 random_state=1)"
   ]
  },
  {
   "cell_type": "code",
   "execution_count": null,
   "metadata": {},
   "outputs": [],
   "source": [
    "# 整形\n",
    "y_train = y_train.values.ravel()\n",
    "y_test = y_test.values.ravel()"
   ]
  },
  {
   "cell_type": "code",
   "execution_count": null,
   "metadata": {},
   "outputs": [],
   "source": [
    "from sklearn.pipeline import Pipeline\n",
    "from sklearn.preprocessing import StandardScaler\n",
    "from sklearn.linear_model import LogisticRegression\n",
    "from sklearn.ensemble import RandomForestClassifier, GradientBoostingClassifier\n",
    "from sklearn.decomposition import PCA\n",
    "from sklearn.svm import LinearSVC\n",
    "from sklearn.neighbors import KNeighborsClassifier\n",
    "\n",
    "# set pipelines for three different algorithms\n",
    "pipe_LR = Pipeline([('scl',StandardScaler()),\n",
    "                       ('est',LogisticRegression(random_state=1))])\n",
    "pipe_RF = Pipeline([('scl',StandardScaler()),\n",
    "                        ('est',RandomForestClassifier(random_state=1))])\n",
    "pipe_GB = Pipeline([('scl',StandardScaler()),\n",
    "                        ('est',GradientBoostingClassifier(random_state=1))])\n",
    "pipe_PCARF = Pipeline([('scl',StandardScaler()),\n",
    "                          ('pca',PCA(random_state=1)),\n",
    "                          ('est',RandomForestClassifier(random_state=1))])\n",
    "pipe_PCAGB = Pipeline([('scl',StandardScaler()),\n",
    "                          ('pca',PCA(random_state=1)),\n",
    "                          ('est',GradientBoostingClassifier(random_state=1))])\n",
    "pipe_SVC = Pipeline([('scl',StandardScaler()),\n",
    "                          ('est',LinearSVC(random_state=1))])\n",
    "pipe_KNC = Pipeline([('scl',StandardScaler()),\n",
    "                          ('est',KNeighborsClassifier())])"
   ]
  },
  {
   "cell_type": "code",
   "execution_count": null,
   "metadata": {},
   "outputs": [],
   "source": [
    "# 学習\n",
    "pipe_LR.fit(X_train, y_train)\n",
    "pipe_RF.fit(X_train, y_train)\n",
    "pipe_GB.fit(X_train, y_train)\n",
    "pipe_PCARF.fit(X_train, y_train)\n",
    "pipe_PCAGB.fit(X_train, y_train)\n",
    "pipe_SVC.fit(X_train, y_train)\n",
    "pipe_KNC.fit(X_train, y_train)"
   ]
  },
  {
   "cell_type": "code",
   "execution_count": 19,
   "metadata": {},
   "outputs": [
    {
     "name": "stdout",
     "output_type": "stream",
     "text": [
      "pipe_LR_Train:1.000\n",
      "pipe_LR_Test:0.963\n",
      "pipe_RF_Train:1.000\n",
      "pipe_RF_Test:0.963\n",
      "pipe_GB_Train:1.000\n",
      "pipe_GB_Test:0.889\n",
      "pipe_PCARF_Train:1.000\n",
      "pipe_PCARF_Test:0.852\n",
      "pipe_PCAGB_Train:1.000\n",
      "pipe_PCAGB_Test:0.926\n",
      "pipe_SVC_Train:1.000\n",
      "pipe_SVC_Test:0.963\n",
      "pipe_KNC_Train:0.968\n",
      "pipe_KNC_Test:0.963\n"
     ]
    }
   ],
   "source": [
    "# 評価（accuracyスコアとする）\n",
    "from sklearn.metrics import accuracy_score\n",
    "print('pipe_LR_Train:%.3f'% accuracy_score(y_train,\n",
    "                                          pipe_LR.predict(X_train)))\n",
    "print('pipe_LR_Test:%.3f' % accuracy_score(y_test,\n",
    "                                          pipe_LR.predict(X_test)))\n",
    "\n",
    "print('pipe_RF_Train:%.3f'% accuracy_score(y_train,\n",
    "                                          pipe_RF.predict(X_train)))\n",
    "print('pipe_RF_Test:%.3f' % accuracy_score(y_test,\n",
    "                                          pipe_RF.predict(X_test)))\n",
    "\n",
    "print('pipe_GB_Train:%.3f'% accuracy_score(y_train,\n",
    "                                          pipe_GB.predict(X_train)))\n",
    "print('pipe_GB_Test:%.3f' % accuracy_score(y_test,\n",
    "                                          pipe_GB.predict(X_test)))\n",
    "\n",
    "print('pipe_PCARF_Train:%.3f'% accuracy_score(y_train,\n",
    "                                          pipe_PCARF.predict(X_train)))\n",
    "print('pipe_PCARF_Test:%.3f' % accuracy_score(y_test,\n",
    "                                          pipe_PCARF.predict(X_test)))\n",
    "\n",
    "print('pipe_PCAGB_Train:%.3f'% accuracy_score(y_train,\n",
    "                                          pipe_PCAGB.predict(X_train)))\n",
    "print('pipe_PCAGB_Test:%.3f' % accuracy_score(y_test,\n",
    "                                          pipe_PCAGB.predict(X_test)))\n",
    "\n",
    "print('pipe_SVC_Train:%.3f'% accuracy_score(y_train,\n",
    "                                          pipe_SVC.predict(X_train)))\n",
    "print('pipe_SVC_Test:%.3f' % accuracy_score(y_test,\n",
    "                                          pipe_SVC.predict(X_test)))\n",
    "\n",
    "print('pipe_KNC_Train:%.3f'% accuracy_score(y_train,\n",
    "                                          pipe_KNC.predict(X_train)))\n",
    "print('pipe_KNC_Test:%.3f' % accuracy_score(y_test,\n",
    "                                          pipe_KNC.predict(X_test)))"
   ]
  },
  {
   "cell_type": "code",
   "execution_count": null,
   "metadata": {},
   "outputs": [],
   "source": [
    "# パラメータグリッドの設定\n",
    "from sklearn.model_selection import GridSearchCV\n",
    "\n",
    "param_grid_RF = {\n",
    "#                  'pca__n_components':[1,2,3],\n",
    "                 'est__n_estimators': [5, 10, 20, 30, 50],# 整数を指定．デフォルトの値は10．バギングに用いる決定木の個数を指定．\n",
    "                 'est__max_features': [5,8,10],\n",
    "# 整数，小数，文字列または None を指定。デフォルトは None。最適な分割をするために考慮するフィーチャーの数を指定。\n",
    "# 整数を指定した場合，その個数，小数の場合全フィーチャーに対する割合個，auto を指定した場合，フィーチャー数のルート個\n",
    "# log2 を指定した場合，log2(フィーチャー数) 個。基本は None を使うべき。\n",
    "                 'est__random_state': [1],# 乱数のタネの指定。何かしらの整数を指定すべき。\n",
    "                 'est__n_jobs': [-1],# 複数のCPUコアを使って並列に学習します。-1は最大値。\n",
    "                 'est__min_samples_split' : [3, 5, 10, 15, 20, 25, 30, 40],\n",
    "# 整数または小数を指定．デフォルトは None．ノードを分割するために必要な最小サンプルサイズ.\n",
    "# 整数を指定した場合，その数，小数を指定した場合，全サンプルサイズに対する割合個．\n",
    "                 'est__max_depth' : [3, 5, 10, 15, 20]}# 整数または None を指定．決定木の深さの最大値を指定．過学習を避けるためにはこれを調節するのが最も重要．"
   ]
  },
  {
   "cell_type": "code",
   "execution_count": null,
   "metadata": {},
   "outputs": [],
   "source": [
    "print('探索空間:%s' %param_grid_RF)\n",
    "clf = GridSearchCV(estimator=pipe_RF,# 対象の機械学習モデル\n",
    "                   param_grid=param_grid_RF,# 探索パラメータ辞書\n",
    "                   scoring='accuracy',\n",
    "                   cv=3,# クロスバリデーションの分割数\n",
    "                   return_train_score=False)"
   ]
  },
  {
   "cell_type": "code",
   "execution_count": 22,
   "metadata": {},
   "outputs": [
    {
     "name": "stdout",
     "output_type": "stream",
     "text": [
      "Best Score: 0.9516129032258065\n",
      "Best Params {'est__max_depth': 3, 'est__max_features': 5, 'est__min_samples_split': 10, 'est__n_estimators': 5, 'est__n_jobs': -1, 'est__random_state': 1}\n"
     ]
    }
   ],
   "source": [
    "clf = clf.fit(X_train, y_train)\n",
    "print('Best Score:', clf.best_score_)\n",
    "print('Best Params', clf.best_params_)"
   ]
  },
  {
   "cell_type": "code",
   "execution_count": null,
   "metadata": {},
   "outputs": [],
   "source": [
    "pred = pipe_RF.predict(testX)\n",
    "pred"
   ]
  },
  {
   "cell_type": "code",
   "execution_count": null,
   "metadata": {},
   "outputs": [],
   "source": [
    "sample = pd.read_csv(\"sample_submit.csv\",header=None)\n",
    "sample.head()"
   ]
  },
  {
   "cell_type": "code",
   "execution_count": null,
   "metadata": {},
   "outputs": [],
   "source": [
    "# 提出用csvの正解カラムにpredを代入\n",
    "sample[1] = pred\n",
    "sample.head()"
   ]
  },
  {
   "cell_type": "code",
   "execution_count": null,
   "metadata": {},
   "outputs": [],
   "source": [
    "# 提出用データをcsv形式で出力\n",
    "sample.to_csv(\"submit0.csv\",index=None,header=None)"
   ]
  },
  {
   "cell_type": "code",
   "execution_count": null,
   "metadata": {},
   "outputs": [],
   "source": []
  }
 ],
 "metadata": {
  "kernelspec": {
   "display_name": "Python 3",
   "language": "python",
   "name": "python3"
  },
  "language_info": {
   "codemirror_mode": {
    "name": "ipython",
    "version": 3
   },
   "file_extension": ".py",
   "mimetype": "text/x-python",
   "name": "python",
   "nbconvert_exporter": "python",
   "pygments_lexer": "ipython3",
   "version": "3.6.5"
  }
 },
 "nbformat": 4,
 "nbformat_minor": 2
}
