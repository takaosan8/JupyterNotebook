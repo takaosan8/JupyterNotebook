{
 "cells": [
  {
   "cell_type": "markdown",
   "metadata": {},
   "source": [
    "## Crassification Car\n",
    "　　　From SIGNATE　【練習問題】自動車の評価"
   ]
  },
  {
   "cell_type": "markdown",
   "metadata": {},
   "source": [
    "※ SIGNATEから元データの再配布が認められていないため、このノートブックで解析している元データ(csvファイル、tsvファイル)については、お手数ですがSIGNATEの【練習問題】サイトからダウンロードして、このipynbファイルと同じ場所に入れてから実行してください。"
   ]
  },
  {
   "cell_type": "code",
   "execution_count": 1,
   "metadata": {},
   "outputs": [],
   "source": [
    "# 基本ライブラリの読み込み\n",
    "import numpy as np\n",
    "import pandas as pd"
   ]
  },
  {
   "cell_type": "markdown",
   "metadata": {},
   "source": [
    "### trainデータ"
   ]
  },
  {
   "cell_type": "code",
   "execution_count": null,
   "metadata": {},
   "outputs": [],
   "source": [
    "# train.tsvの読み込み\n",
    "train_df = pd.read_csv(\"train.tsv\", sep=\"\\t\")\n",
    "train_df.head()"
   ]
  },
  {
   "cell_type": "code",
   "execution_count": null,
   "metadata": {},
   "outputs": [],
   "source": [
    "# インデックスとy（目的変数）を説明変数から削除して、特徴量のみをtrainXに代入する\n",
    "trainX = train_df.iloc[:, 2:]\n",
    "trainX.head()"
   ]
  },
  {
   "cell_type": "code",
   "execution_count": null,
   "metadata": {},
   "outputs": [],
   "source": [
    "# 行列の桁数確認\n",
    "trainX.shape"
   ]
  },
  {
   "cell_type": "code",
   "execution_count": null,
   "metadata": {},
   "outputs": [],
   "source": [
    "# 基礎統計量の確認\n",
    "trainX.describe()"
   ]
  },
  {
   "cell_type": "code",
   "execution_count": null,
   "metadata": {},
   "outputs": [],
   "source": [
    "# データ型の確認\n",
    "trainX.info()"
   ]
  },
  {
   "cell_type": "code",
   "execution_count": null,
   "metadata": {},
   "outputs": [],
   "source": [
    "# 欠損値の確認\n",
    "trainX.isnull().sum()"
   ]
  },
  {
   "cell_type": "markdown",
   "metadata": {},
   "source": [
    "欠損値はなし"
   ]
  },
  {
   "cell_type": "code",
   "execution_count": null,
   "metadata": {},
   "outputs": [],
   "source": [
    "# trainデータの目的変数をyに代入する\n",
    "y = train_df.iloc[:,[1]]\n",
    "display(y.head())"
   ]
  },
  {
   "cell_type": "code",
   "execution_count": null,
   "metadata": {},
   "outputs": [],
   "source": [
    "# カラムの種別個数を確認\n",
    "y[\"class\"].value_counts()"
   ]
  },
  {
   "cell_type": "code",
   "execution_count": null,
   "metadata": {},
   "outputs": [],
   "source": [
    "# カラムの種別個数を確認\n",
    "trainX[\"buying\"].value_counts()"
   ]
  },
  {
   "cell_type": "code",
   "execution_count": null,
   "metadata": {},
   "outputs": [],
   "source": [
    "# カラムの種別個数を確認\n",
    "trainX[\"maint\"].value_counts()"
   ]
  },
  {
   "cell_type": "code",
   "execution_count": null,
   "metadata": {},
   "outputs": [],
   "source": [
    "# カラムの種別個数を確認\n",
    "trainX[\"doors\"].value_counts()"
   ]
  },
  {
   "cell_type": "code",
   "execution_count": null,
   "metadata": {},
   "outputs": [],
   "source": [
    "# カラムの種別個数を確認\n",
    "trainX[\"persons\"].value_counts()"
   ]
  },
  {
   "cell_type": "code",
   "execution_count": null,
   "metadata": {},
   "outputs": [],
   "source": [
    "# カラムの種別個数を確認\n",
    "trainX[\"lug_boot\"].value_counts()"
   ]
  },
  {
   "cell_type": "code",
   "execution_count": null,
   "metadata": {},
   "outputs": [],
   "source": [
    "# カラムの種別個数を確認\n",
    "trainX[\"safety\"].value_counts()"
   ]
  },
  {
   "cell_type": "code",
   "execution_count": null,
   "metadata": {},
   "outputs": [],
   "source": [
    "# オブジェクト型の特徴量を数値型に変換\n",
    "class_mapping_cls = {\"unacc\":0 ,\"acc\":1 ,\"good\":2 ,\"vgood\":3}\n",
    "class_mapping_byg = {\"low\":0 ,\"med\":1 ,\"high\":2 ,\"vhigh\":3} \n",
    "class_mapping_mat = {\"low\":0 ,\"med\":1 ,\"high\":2 ,\"vhigh\":3} \n",
    "class_mapping_drs = {\"2\":0 ,\"3\":1 ,\"4\":2 ,\"5more\":3} \n",
    "class_mapping_pss = {\"2\":0 ,\"4\":1 , \"more\":2} \n",
    "class_mapping_lgb = {\"small\":0 ,\"med\":1 , \"big\":2} \n",
    "class_mapping_sft = {\"low\":0 ,\"med\":1 , \"high\":2} \n",
    "\n",
    "trainX = trainX.copy() # .copy()しないとエラーになるので注意\n",
    "y = y.copy()\n",
    "\n",
    "# loc関数で'該当'列のみを選択して、変数class_mappingをmap関数で適用する\n",
    "y.loc[:,\"class\"] = y[\"class\"].map(class_mapping_cls)\n",
    "trainX.loc[:,\"buying\"] = trainX[\"buying\"].map(class_mapping_byg)\n",
    "trainX.loc[:,\"maint\"] = trainX[\"maint\"].map(class_mapping_mat)\n",
    "trainX.loc[:,\"doors\"] = trainX[\"doors\"].map(class_mapping_drs)\n",
    "trainX.loc[:,\"persons\"] = trainX[\"persons\"].map(class_mapping_pss)\n",
    "trainX.loc[:,\"lug_boot\"] = trainX[\"lug_boot\"].map(class_mapping_lgb)\n",
    "trainX.loc[:,\"safety\"] = trainX[\"safety\"].map(class_mapping_sft)"
   ]
  },
  {
   "cell_type": "code",
   "execution_count": null,
   "metadata": {},
   "outputs": [],
   "source": [
    "display(trainX.head())"
   ]
  },
  {
   "cell_type": "code",
   "execution_count": null,
   "metadata": {},
   "outputs": [],
   "source": [
    "display(y.head())"
   ]
  },
  {
   "cell_type": "code",
   "execution_count": null,
   "metadata": {},
   "outputs": [],
   "source": [
    "# 欠損値の確認\n",
    "trainX.isnull().sum()"
   ]
  },
  {
   "cell_type": "markdown",
   "metadata": {},
   "source": [
    "欠損値なしを確認。"
   ]
  },
  {
   "cell_type": "markdown",
   "metadata": {},
   "source": [
    "=========================================================================================================================="
   ]
  },
  {
   "cell_type": "markdown",
   "metadata": {},
   "source": [
    "### testデータ"
   ]
  },
  {
   "cell_type": "code",
   "execution_count": null,
   "metadata": {},
   "outputs": [],
   "source": [
    "# test.tsvの読み込み\n",
    "test_df = pd.read_csv(\"test.tsv\", sep=\"\\t\")\n",
    "test_df.head()"
   ]
  },
  {
   "cell_type": "code",
   "execution_count": null,
   "metadata": {},
   "outputs": [],
   "source": [
    "# インデックスを説明変数から削除して、特徴量のみをtestXに代入する\n",
    "testX = test_df.iloc[:, 1:]\n",
    "testX.head()"
   ]
  },
  {
   "cell_type": "code",
   "execution_count": null,
   "metadata": {},
   "outputs": [],
   "source": [
    "# 行列の桁数確認\n",
    "testX.shape"
   ]
  },
  {
   "cell_type": "code",
   "execution_count": null,
   "metadata": {},
   "outputs": [],
   "source": [
    "# 基礎統計量の確認\n",
    "testX.describe()"
   ]
  },
  {
   "cell_type": "code",
   "execution_count": null,
   "metadata": {},
   "outputs": [],
   "source": [
    "# データ型の確認\n",
    "testX.info()"
   ]
  },
  {
   "cell_type": "code",
   "execution_count": null,
   "metadata": {},
   "outputs": [],
   "source": [
    "# 欠損値の確認\n",
    "testX.isnull().sum()"
   ]
  },
  {
   "cell_type": "markdown",
   "metadata": {},
   "source": [
    "欠損値なしを確認。"
   ]
  },
  {
   "cell_type": "code",
   "execution_count": null,
   "metadata": {},
   "outputs": [],
   "source": [
    "testX = testX.copy()\n",
    "\n",
    "# loc関数で'該当'列のみを選択して、変数class_mappingをmap関数で適用する\n",
    "testX.loc[:,\"buying\"] = testX[\"buying\"].map(class_mapping_byg)\n",
    "testX.loc[:,\"maint\"] = testX[\"maint\"].map(class_mapping_mat)\n",
    "testX.loc[:,\"doors\"] = testX[\"doors\"].map(class_mapping_drs)\n",
    "testX.loc[:,\"persons\"] = testX[\"persons\"].map(class_mapping_pss)\n",
    "testX.loc[:,\"lug_boot\"] = testX[\"lug_boot\"].map(class_mapping_lgb)\n",
    "testX.loc[:,\"safety\"] = testX[\"safety\"].map(class_mapping_sft)\n",
    "\n",
    "testX.head()"
   ]
  },
  {
   "cell_type": "code",
   "execution_count": null,
   "metadata": {},
   "outputs": [],
   "source": [
    "# 欠損値の確認\n",
    "testX.isnull().sum()"
   ]
  },
  {
   "cell_type": "markdown",
   "metadata": {},
   "source": [
    "欠損値なしを確認。"
   ]
  },
  {
   "cell_type": "markdown",
   "metadata": {},
   "source": [
    "=========================================================================================================================="
   ]
  },
  {
   "cell_type": "markdown",
   "metadata": {},
   "source": [
    "### trainデータの交差検証"
   ]
  },
  {
   "cell_type": "code",
   "execution_count": null,
   "metadata": {},
   "outputs": [],
   "source": [
    "# 交叉検証　Holdout法\n",
    "from sklearn.model_selection import train_test_split\n",
    "X_train,X_test,y_train,y_test = train_test_split(trainX,\n",
    "                                                 y,\n",
    "                                                 test_size=0.25,\n",
    "                                                 random_state=1)"
   ]
  },
  {
   "cell_type": "code",
   "execution_count": null,
   "metadata": {},
   "outputs": [],
   "source": [
    "# 整形\n",
    "y_train = y_train.values.ravel()\n",
    "y_test = y_test.values.ravel()"
   ]
  },
  {
   "cell_type": "code",
   "execution_count": null,
   "metadata": {},
   "outputs": [],
   "source": [
    "# ライブラリからアルゴリズムの読み込み\n",
    "from sklearn.pipeline import Pipeline\n",
    "from sklearn.preprocessing import StandardScaler\n",
    "from sklearn.linear_model import LogisticRegression\n",
    "from sklearn.ensemble import RandomForestClassifier, GradientBoostingClassifier\n",
    "from sklearn.decomposition import PCA\n",
    "from sklearn.svm import SVC, LinearSVC\n",
    "from sklearn.neighbors import KNeighborsClassifier\n",
    "from sklearn.naive_bayes import GaussianNB\n",
    "from sklearn.linear_model import Perceptron\n",
    "from sklearn.linear_model import SGDClassifier\n",
    "from sklearn.tree import DecisionTreeClassifier\n",
    "\n",
    "# set pipelines for different algorithms\n",
    "pipe_LR = Pipeline([('scl',StandardScaler()),\n",
    "                       ('est',LogisticRegression(random_state=1))])\n",
    "pipe_RF = Pipeline([('scl',StandardScaler()),\n",
    "                        ('est',RandomForestClassifier(random_state=1))])\n",
    "pipe_GB = Pipeline([('scl',StandardScaler()),\n",
    "                        ('est',GradientBoostingClassifier(random_state=1))])\n",
    "pipe_PCARF = Pipeline([('scl',StandardScaler()),\n",
    "                          ('pca',PCA(random_state=1)),\n",
    "                          ('est',RandomForestClassifier(random_state=1))])\n",
    "pipe_PCAGB = Pipeline([('scl',StandardScaler()),\n",
    "                          ('pca',PCA(random_state=1)),\n",
    "                          ('est',GradientBoostingClassifier(random_state=1))])\n",
    "pipe_SVC = Pipeline([('scl',StandardScaler()),\n",
    "                          ('est',SVC(random_state=1))])\n",
    "pipe_LSVC = Pipeline([('scl',StandardScaler()),\n",
    "                          ('est',LinearSVC(random_state=1))])\n",
    "pipe_KNC = Pipeline([('scl',StandardScaler()),\n",
    "                          ('est',KNeighborsClassifier())])\n",
    "pipe_GNB = Pipeline([('scl',StandardScaler()),\n",
    "                          ('est',GaussianNB())])\n",
    "pipe_PER = Pipeline([('scl',StandardScaler()),\n",
    "                          ('est',Perceptron(random_state=1))])\n",
    "pipe_SGD = Pipeline([('scl',StandardScaler()),\n",
    "                          ('est',SGDClassifier(random_state=1))])\n",
    "pipe_DTC = Pipeline([('scl',StandardScaler()),\n",
    "                          ('est',DecisionTreeClassifier(random_state=1))])"
   ]
  },
  {
   "cell_type": "code",
   "execution_count": null,
   "metadata": {},
   "outputs": [],
   "source": [
    "# Pipelineの学習\n",
    "pipe_LR.fit(X_train, y_train)\n",
    "pipe_RF.fit(X_train, y_train)\n",
    "pipe_GB.fit(X_train, y_train)\n",
    "pipe_PCARF.fit(X_train, y_train)\n",
    "pipe_PCAGB.fit(X_train, y_train)\n",
    "pipe_SVC.fit(X_train, y_train)\n",
    "pipe_LSVC.fit(X_train, y_train)\n",
    "pipe_KNC.fit(X_train, y_train)\n",
    "pipe_GNB.fit(X_train, y_train)\n",
    "pipe_PER.fit(X_train, y_train)\n",
    "pipe_SGD.fit(X_train, y_train)\n",
    "pipe_DTC.fit(X_train, y_train)"
   ]
  },
  {
   "cell_type": "code",
   "execution_count": 32,
   "metadata": {},
   "outputs": [
    {
     "name": "stdout",
     "output_type": "stream",
     "text": [
      "----------------------------------------\n",
      "pipe_LR_Train:0.793\n",
      "pipe_LR_Test:0.773\n",
      "----------------------------------------\n",
      "pipe_RF_Train:0.998\n",
      "pipe_RF_Test:0.926\n",
      "----------------------------------------\n",
      "pipe_GB_Train:0.995\n",
      "pipe_GB_Test:0.981\n",
      "----------------------------------------\n",
      "pipe_PCARF_Train:0.992\n",
      "pipe_PCARF_Test:0.833\n",
      "----------------------------------------\n",
      "pipe_PCAGB_Train:1.000\n",
      "pipe_PCAGB_Test:0.833\n",
      "----------------------------------------\n",
      "pipe_SVC_Train:0.957\n",
      "pipe_SVC_Test:0.931\n",
      "----------------------------------------\n",
      "pipe_LSVC_Train:0.798\n",
      "pipe_LSVC_Test:0.787\n",
      "----------------------------------------\n",
      "pipe_KNC_Train:0.966\n",
      "pipe_KNC_Test:0.912\n",
      "----------------------------------------\n",
      "pipe_GNB_Train:0.704\n",
      "pipe_GNB_Test:0.722\n",
      "----------------------------------------\n",
      "pipe_PER_Train:0.750\n",
      "pipe_PER_Test:0.759\n",
      "----------------------------------------\n",
      "pipe_SGD_Train:0.730\n",
      "pipe_SGD_Test:0.741\n",
      "----------------------------------------\n",
      "pipe_DTC_Train:1.000\n",
      "pipe_DTC_Test:0.968\n",
      "----------------------------------------\n"
     ]
    }
   ],
   "source": [
    "# 評価（accuracyスコアとする）\n",
    "from sklearn.metrics import accuracy_score\n",
    "\n",
    "print('-'*40)\n",
    "print('pipe_LR_Train:%.3f'% accuracy_score(y_train,\n",
    "                                          pipe_LR.predict(X_train)))\n",
    "print('pipe_LR_Test:%.3f' % accuracy_score(y_test,\n",
    "                                          pipe_LR.predict(X_test)))\n",
    "print('-'*40)\n",
    "print('pipe_RF_Train:%.3f'% accuracy_score(y_train,\n",
    "                                          pipe_RF.predict(X_train)))\n",
    "print('pipe_RF_Test:%.3f' % accuracy_score(y_test,\n",
    "                                          pipe_RF.predict(X_test)))\n",
    "print('-'*40)\n",
    "print('pipe_GB_Train:%.3f'% accuracy_score(y_train,\n",
    "                                          pipe_GB.predict(X_train)))\n",
    "print('pipe_GB_Test:%.3f' % accuracy_score(y_test,\n",
    "                                          pipe_GB.predict(X_test)))\n",
    "print('-'*40)\n",
    "print('pipe_PCARF_Train:%.3f'% accuracy_score(y_train,\n",
    "                                          pipe_PCARF.predict(X_train)))\n",
    "print('pipe_PCARF_Test:%.3f' % accuracy_score(y_test,\n",
    "                                          pipe_PCARF.predict(X_test)))\n",
    "print('-'*40)\n",
    "print('pipe_PCAGB_Train:%.3f'% accuracy_score(y_train,\n",
    "                                          pipe_PCAGB.predict(X_train)))\n",
    "print('pipe_PCAGB_Test:%.3f' % accuracy_score(y_test,\n",
    "                                          pipe_PCAGB.predict(X_test)))\n",
    "print('-'*40)\n",
    "print('pipe_SVC_Train:%.3f'% accuracy_score(y_train,\n",
    "                                          pipe_SVC.predict(X_train)))\n",
    "print('pipe_SVC_Test:%.3f' % accuracy_score(y_test,\n",
    "                                          pipe_SVC.predict(X_test)))\n",
    "print('-'*40)\n",
    "print('pipe_LSVC_Train:%.3f'% accuracy_score(y_train,\n",
    "                                          pipe_LSVC.predict(X_train)))\n",
    "print('pipe_LSVC_Test:%.3f' % accuracy_score(y_test,\n",
    "                                          pipe_LSVC.predict(X_test)))\n",
    "print('-'*40)\n",
    "print('pipe_KNC_Train:%.3f'% accuracy_score(y_train,\n",
    "                                          pipe_KNC.predict(X_train)))\n",
    "print('pipe_KNC_Test:%.3f' % accuracy_score(y_test,\n",
    "                                          pipe_KNC.predict(X_test)))\n",
    "print('-'*40)\n",
    "print('pipe_GNB_Train:%.3f'% accuracy_score(y_train,\n",
    "                                          pipe_GNB.predict(X_train)))\n",
    "print('pipe_GNB_Test:%.3f' % accuracy_score(y_test,\n",
    "                                          pipe_GNB.predict(X_test)))\n",
    "print('-'*40)\n",
    "print('pipe_PER_Train:%.3f'% accuracy_score(y_train,\n",
    "                                          pipe_PER.predict(X_train)))\n",
    "print('pipe_PER_Test:%.3f' % accuracy_score(y_test,\n",
    "                                          pipe_PER.predict(X_test)))\n",
    "print('-'*40)\n",
    "print('pipe_SGD_Train:%.3f'% accuracy_score(y_train,\n",
    "                                          pipe_SGD.predict(X_train)))\n",
    "print('pipe_SGD_Test:%.3f' % accuracy_score(y_test,\n",
    "                                          pipe_SGD.predict(X_test)))\n",
    "print('-'*40)\n",
    "print('pipe_DTC_Train:%.3f'% accuracy_score(y_train,\n",
    "                                          pipe_DTC.predict(X_train)))\n",
    "print('pipe_DTC_Test:%.3f' % accuracy_score(y_test,\n",
    "                                          pipe_DTC.predict(X_test)))\n",
    "print('-'*40)"
   ]
  },
  {
   "cell_type": "markdown",
   "metadata": {},
   "source": [
    "pipe_GBを採用する"
   ]
  },
  {
   "cell_type": "markdown",
   "metadata": {},
   "source": [
    "=========================================================================================================================="
   ]
  },
  {
   "cell_type": "markdown",
   "metadata": {},
   "source": [
    "### パラメータチューニング"
   ]
  },
  {
   "cell_type": "code",
   "execution_count": null,
   "metadata": {},
   "outputs": [],
   "source": [
    "# パラメータグリッドの設定\n",
    "from sklearn.model_selection import GridSearchCV\n",
    "param_grid_GB = {\n",
    "    #                  'est__learning_rate':[0.001,0.01,0.1],\n",
    "                 'est__n_estimators':[5,10,50,100,500], \n",
    "                 'est__max_depth':[1,2,3,4,5],\n",
    "                 'est__min_samples_split':[0.1,0.3,0.5,0.7,0.9],\n",
    "                 'est__min_samples_leaf':[1,2,4,6,8] }\n",
    "\n",
    "# loss：最小化にするための費用関数　標準値deviance\n",
    "# learning_rate：標準値0.1　結果に対する各ツリーの影響度を小さくする。↓に反比例。小さいほどロバスト性が高く良い\n",
    "# n_estimators：標準値100　逐次的にフィットするためrのツリー数↑に対して交差検証から調整 \n",
    "# max_depth：標準値設定なし　各ツリーの最大深さ　\n",
    "# min_samples_split：標準値2　ノードとして必要な最小サンプル数\n",
    "# min_samples_leaf：標準値1　リーフとして必要な最小サンプル数"
   ]
  },
  {
   "cell_type": "code",
   "execution_count": null,
   "metadata": {},
   "outputs": [],
   "source": [
    "print('探索空間:%s' %param_grid_GB)\n",
    "clf = GridSearchCV(estimator=pipe_GB,\n",
    "                   param_grid=param_grid_GB,\n",
    "                   scoring='accuracy',\n",
    "                   cv=3,\n",
    "                   n_jobs=-1,\n",
    "                   return_train_score=False)"
   ]
  },
  {
   "cell_type": "code",
   "execution_count": 36,
   "metadata": {},
   "outputs": [
    {
     "name": "stdout",
     "output_type": "stream",
     "text": [
      "Best Score: 0.9490740740740741\n",
      "Best Params {'est__max_depth': 3, 'est__min_samples_leaf': 1, 'est__min_samples_split': 0.3, 'est__n_estimators': 500}\n"
     ]
    }
   ],
   "source": [
    "clf = clf.fit(X_train, y_train)\n",
    "print('Best Score:', clf.best_score_)\n",
    "print('Best Params', clf.best_params_)"
   ]
  },
  {
   "cell_type": "code",
   "execution_count": null,
   "metadata": {},
   "outputs": [],
   "source": [
    "pred = pipe_GB.predict(testX)\n",
    "pred"
   ]
  },
  {
   "cell_type": "markdown",
   "metadata": {},
   "source": [
    "=========================================================================================================================="
   ]
  },
  {
   "cell_type": "markdown",
   "metadata": {},
   "source": [
    "### 提出用CSVの作成"
   ]
  },
  {
   "cell_type": "code",
   "execution_count": null,
   "metadata": {},
   "outputs": [],
   "source": [
    "# 提出用CSVの読み込み\n",
    "sample = pd.read_csv(\"sample_submit.csv\", header=None)\n",
    "sample.head()"
   ]
  },
  {
   "cell_type": "code",
   "execution_count": null,
   "metadata": {},
   "outputs": [],
   "source": [
    "# array形で格納されているpredをDataFrame型に変換\n",
    "pred_df = pd.DataFrame(pred)\n",
    "pred_df.head()"
   ]
  },
  {
   "cell_type": "code",
   "execution_count": null,
   "metadata": {},
   "outputs": [],
   "source": [
    "# 数値を文字列に変換\n",
    "# 提出用データは文字列でデータを入力する必要があるため数値から文字列に変換する。\n",
    "# 正解ラベルの数値数値変換\n",
    "class_mapping_cls2 = {0:\"unacc\", 1:\"acc\", 2:\"good\", 3:\"vgood\"}\n",
    "pred_df = pred_df.copy()\n",
    "\n",
    "# loc関数で'0'列のみを選択して、変数class_mappingをmap関数で適用する\n",
    "pred_df.iloc[:,0] = pred_df[0].map(class_mapping_cls2)\n",
    "\n",
    "display(pred_df.head())"
   ]
  },
  {
   "cell_type": "code",
   "execution_count": null,
   "metadata": {},
   "outputs": [],
   "source": [
    "# 提出用csvの正解カラム'1'にpredを代入\n",
    "sample[1] = pred_df\n",
    "sample.head()"
   ]
  },
  {
   "cell_type": "code",
   "execution_count": null,
   "metadata": {},
   "outputs": [],
   "source": [
    "# 提出用データをcsv形式で出力\n",
    "sample.to_csv(\"submit3.csv\",index=None,header=None)"
   ]
  },
  {
   "cell_type": "markdown",
   "metadata": {},
   "source": [
    "=========================================================================================================================="
   ]
  }
 ],
 "metadata": {
  "kernelspec": {
   "display_name": "Python 3",
   "language": "python",
   "name": "python3"
  },
  "language_info": {
   "codemirror_mode": {
    "name": "ipython",
    "version": 3
   },
   "file_extension": ".py",
   "mimetype": "text/x-python",
   "name": "python",
   "nbconvert_exporter": "python",
   "pygments_lexer": "ipython3",
   "version": "3.6.5"
  }
 },
 "nbformat": 4,
 "nbformat_minor": 2
}
