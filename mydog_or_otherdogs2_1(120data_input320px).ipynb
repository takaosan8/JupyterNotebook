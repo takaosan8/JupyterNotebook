{
  "nbformat": 4,
  "nbformat_minor": 0,
  "metadata": {
    "colab": {
      "name": "[掲載用]mydog_or_otherdogs2-1(120data_input320px).ipynb",
      "provenance": [],
      "collapsed_sections": []
    },
    "kernelspec": {
      "name": "python3",
      "display_name": "Python 3"
    },
    "accelerator": "GPU"
  },
  "cells": [
    {
      "cell_type": "markdown",
      "metadata": {
        "id": "7Yaz0ewm1f7o",
        "colab_type": "text"
      },
      "source": [
        "# deeplearningで柴犬の写真からうちの子かどうか判定(2)"
      ]
    },
    {
      "cell_type": "markdown",
      "metadata": {
        "id": "EKnPogdH12Cn",
        "colab_type": "text"
      },
      "source": [
        "**分析条件**　mydog:<font color=\"RoyalBlue\">120枚</font> otherdogs:<font color=\"RoyalBlue\">120枚</font> input_size:<font color=\"RoyalBlue\">320*320</font> Data Augumentation:<font color=\"RoyalBlue\">あり/なしの2通り</font>"
      ]
    },
    {
      "cell_type": "markdown",
      "metadata": {
        "id": "rlnw3nk7c_uw",
        "colab_type": "text"
      },
      "source": [
        "### 1 Google Drive のマウント"
      ]
    },
    {
      "cell_type": "code",
      "metadata": {
        "id": "eppcKs3TBGkt",
        "colab_type": "code",
        "colab": {}
      },
      "source": [
        "# Google Driveマウント\n",
        "from google.colab import drive\n",
        "drive.mount('/content/drive')"
      ],
      "execution_count": 0,
      "outputs": []
    },
    {
      "cell_type": "markdown",
      "metadata": {
        "id": "7K0CksDa4H6E",
        "colab_type": "text"
      },
      "source": [
        "### 2 Google Driveにアップロードした犬のjpgのzipファイルを解凍する\n",
        "\n"
      ]
    },
    {
      "cell_type": "code",
      "metadata": {
        "id": "tGcSz94BBbAU",
        "colab_type": "code",
        "colab": {}
      },
      "source": [
        "# cd '/content/drive/'My Drive/'Colab Notebooks'内の作業フォルダへ移動\n",
        "%cd '/content/drive/'My Drive/Colab Notebooks/Self_Study/02_mydog_or_otherdogs/original_data\n",
        "# mydog1データ\n",
        "!unzip \"mydog2.zip\""
      ],
      "execution_count": 0,
      "outputs": []
    },
    {
      "cell_type": "code",
      "metadata": {
        "id": "Llgoe9Jt3if3",
        "colab_type": "code",
        "colab": {}
      },
      "source": [
        "# otherdogs1データ\n",
        "!unzip \"otherdogs2.zip\""
      ],
      "execution_count": 0,
      "outputs": []
    },
    {
      "cell_type": "code",
      "metadata": {
        "id": "bjis_PflChrK",
        "colab_type": "code",
        "colab": {}
      },
      "source": [
        "# ＜Colaboratory環境でのデータ数確認＞ original data \n",
        "# cd '/content/drive/'My Drive/'Colab Notebooks'内の作業フォルダへ移動\n",
        "%cd '/content/drive/'My Drive/Colab Notebooks/Self_Study/02_mydog_or_otherdogs/\n",
        "!ls ./original_data/mydog2 | wc -l\n",
        "!ls ./original_data/otherdogs2 | wc -l"
      ],
      "execution_count": 0,
      "outputs": []
    },
    {
      "cell_type": "markdown",
      "metadata": {
        "id": "hKfZTXyv5-XN",
        "colab_type": "text"
      },
      "source": [
        "### 3 フォルダ作成とファイルパス設定"
      ]
    },
    {
      "cell_type": "code",
      "metadata": {
        "id": "Y_cvUneZCeLH",
        "colab_type": "code",
        "colab": {}
      },
      "source": [
        "# 必要なライブラリの読み込み\n",
        "import os, shutil\n",
        "\n",
        "# original_dataフォルダのファイルパスの設定\n",
        "original_dataset_dir = 'original_data'\n",
        "# original_data内(定義名'original_dataset_dir')に次の2つのフォルダパスを設定する。\n",
        "original_mydog_dir = 'original_data/mydog2'\n",
        "original_otherdogs_dir = 'original_data/otherdogs2'\n",
        "\n",
        "# use_dataのファイルパスの設定\n",
        "base_dir = 'use_data'"
      ],
      "execution_count": 0,
      "outputs": []
    },
    {
      "cell_type": "code",
      "metadata": {
        "id": "zjALSaleDDCJ",
        "colab_type": "code",
        "colab": {}
      },
      "source": [
        "# フォルダ構築及び、ファイルパス設定を行うコード\n",
        "\n",
        "# use_dataフォルダ(定義名'base_dir')内に次の3つのフォルダパスを設定する。\n",
        "train_dir = os.path.join(base_dir, 'train')\n",
        "os.mkdir(train_dir)\n",
        "validation_dir = os.path.join(base_dir, 'validation')\n",
        "os.mkdir(validation_dir)\n",
        "test_dir = os.path.join(base_dir, 'test')\n",
        "os.mkdir(test_dir)\n",
        "\n",
        "# trainフォルダ内に'mydog'フォルダと'otherdogs'フォルダのパスを設定する。\n",
        "train_mydog_dir = os.path.join(train_dir, 'mydog')\n",
        "os.mkdir(train_mydog_dir)\n",
        "train_otherdogs_dir = os.path.join(train_dir, 'otherdogs')\n",
        "os.mkdir(train_otherdogs_dir)\n",
        "\n",
        "# validationフォルダ内に'mydog'フォルダと'otherdogs'フォルダのパスを設定する。\n",
        "validation_mydog_dir = os.path.join(validation_dir, 'mydog')\n",
        "os.mkdir(validation_mydog_dir)\n",
        "validation_otherdogs_dir = os.path.join(validation_dir, 'otherdogs')\n",
        "os.mkdir(validation_otherdogs_dir)\n",
        "\n",
        "# testフォルダ内に'mydog'フォルダと'otherdogs'フォルダのパスを設定する。\n",
        "test_mydog_dir = os.path.join(test_dir, 'mydog')\n",
        "os.mkdir(test_mydog_dir)\n",
        "test_otherdogs_dir = os.path.join(test_dir, 'otherdogs')\n",
        "os.mkdir(test_otherdogs_dir)"
      ],
      "execution_count": 0,
      "outputs": []
    },
    {
      "cell_type": "markdown",
      "metadata": {
        "id": "YIuvUngE3tUz",
        "colab_type": "text"
      },
      "source": [
        "### 4 データコピー"
      ]
    },
    {
      "cell_type": "code",
      "metadata": {
        "id": "51RMnD1qHs5N",
        "colab_type": "code",
        "colab": {}
      },
      "source": [
        "# train用にtrain_mydog_dirにmydogファイルを60個コピー\n",
        "fnames = ['mydog{}.jpg'.format(i) for i in range(60)]\n",
        "for fname in fnames:\n",
        "    src = os.path.join(original_mydog_dir, fname)\n",
        "    dst = os.path.join(train_mydog_dir, fname)\n",
        "    shutil.copyfile(src, dst)\n",
        "\n",
        "# validation用にvalidation_mydog_dirにmydogファイルを30個コピー\n",
        "fnames = ['mydog{}.jpg'.format(i) for i in range(60,90)]\n",
        "for fname in fnames:\n",
        "    src = os.path.join(original_mydog_dir, fname)\n",
        "    dst = os.path.join(validation_mydog_dir, fname)\n",
        "    shutil.copyfile(src, dst)\n",
        "\n",
        "# test用にtest_mydog_dirにmydogファイルを30個コピー\n",
        "fnames = ['mydog{}.jpg'.format(i) for i in range(90,120)]\n",
        "for fname in fnames:\n",
        "    src = os.path.join(original_mydog_dir, fname)\n",
        "    dst = os.path.join(test_mydog_dir, fname)\n",
        "    shutil.copyfile(src, dst)"
      ],
      "execution_count": 0,
      "outputs": []
    },
    {
      "cell_type": "code",
      "metadata": {
        "id": "GpTJNAua6ZnX",
        "colab_type": "code",
        "colab": {}
      },
      "source": [
        "# train用にtrain_otherdogs_dirにotherdogsファイルを60個コピー\n",
        "fnames = ['otherdogs{}.jpg'.format(i) for i in range(60)]\n",
        "for fname in fnames:\n",
        "    src = os.path.join(original_otherdogs_dir, fname)\n",
        "    dst = os.path.join(train_otherdogs_dir, fname)\n",
        "    shutil.copyfile(src, dst)\n",
        "\n",
        "# validation用にvalidation_otherdogs_dirにotherdogsファイルを30個コピー\n",
        "fnames = ['otherdogs{}.jpg'.format(i) for i in range(60, 90)]\n",
        "for fname in fnames:\n",
        "    src = os.path.join(original_otherdogs_dir, fname)\n",
        "    dst = os.path.join(validation_otherdogs_dir, fname)\n",
        "    shutil.copyfile(src, dst)\n",
        "\n",
        "# test用にtest_otherdogs_dirにotherdogsファイルを30個コピー\n",
        "fnames = ['otherdogs{}.jpg'.format(i) for i in range(90, 120)]\n",
        "for fname in fnames:\n",
        "    src = os.path.join(original_otherdogs_dir, fname)\n",
        "    dst = os.path.join(test_otherdogs_dir, fname)\n",
        "    shutil.copyfile(src, dst)"
      ],
      "execution_count": 0,
      "outputs": []
    },
    {
      "cell_type": "code",
      "metadata": {
        "id": "s8_X-QwCTSTB",
        "colab_type": "code",
        "colab": {}
      },
      "source": [
        "# cd '/content/drive/'My Drive/'Colab Notebooks'内の作業フォルダへ移動\n",
        "%cd '/content/drive/'My Drive/Colab Notebooks/Self_Study/02_mydog_or_otherdogs\n",
        "\n",
        "# 各フォルダに格納されているファイル数の確認\n",
        "print('total training mydog images:', len(os.listdir(train_mydog_dir)))\n",
        "print('total training otherdogs images:', len(os.listdir(train_otherdogs_dir)))\n",
        "print('total validation mydog images:', len(os.listdir(validation_mydog_dir)))\n",
        "print('total validation otherdogs images:', len(os.listdir(validation_otherdogs_dir)))\n",
        "print('total test mydog images:', len(os.listdir(test_mydog_dir)))\n",
        "print('total test otherdogs images:', len(os.listdir(test_otherdogs_dir)))"
      ],
      "execution_count": 0,
      "outputs": []
    },
    {
      "cell_type": "markdown",
      "metadata": {
        "id": "HeXhV1X_M_sN",
        "colab_type": "text"
      },
      "source": [
        "### 5 モデル構築"
      ]
    },
    {
      "cell_type": "code",
      "metadata": {
        "id": "5gYh61q3UaS4",
        "colab_type": "code",
        "colab": {}
      },
      "source": [
        "# モデルを構築する\n",
        "from keras import layers\n",
        "from keras import models\n",
        "\n",
        "model = models.Sequential()\n",
        "model.add(layers.Conv2D(32, (3, 3), activation='relu',\n",
        "                        input_shape=(320, 320, 3)))\n",
        "model.add(layers.MaxPooling2D((2, 2)))\n",
        "model.add(layers.Conv2D(64, (3, 3), activation='relu'))\n",
        "model.add(layers.MaxPooling2D((2, 2)))\n",
        "model.add(layers.Conv2D(128, (3, 3), activation='relu'))\n",
        "model.add(layers.MaxPooling2D((2, 2)))\n",
        "model.add(layers.Conv2D(128, (3, 3), activation='relu'))\n",
        "model.add(layers.MaxPooling2D((2, 2)))\n",
        "model.add(layers.Flatten())\n",
        "model.add(layers.Dense(512, activation='relu'))\n",
        "model.add(layers.Dense(1, activation='sigmoid'))\n",
        "\n",
        "model.summary()"
      ],
      "execution_count": 0,
      "outputs": []
    },
    {
      "cell_type": "code",
      "metadata": {
        "id": "k40rYAsXUnAx",
        "colab_type": "code",
        "colab": {}
      },
      "source": [
        "# コンパイル\n",
        "from keras import optimizers\n",
        "\n",
        "model.compile(loss='binary_crossentropy',\n",
        "              optimizer=optimizers.RMSprop(lr=1e-4),\n",
        "              metrics=['acc'])"
      ],
      "execution_count": 0,
      "outputs": []
    },
    {
      "cell_type": "code",
      "metadata": {
        "id": "nPiWeAPnVj62",
        "colab_type": "code",
        "colab": {}
      },
      "source": [
        "# ImageDataGeneratorで画像をテンソルに変換する\n",
        "from keras.preprocessing.image import ImageDataGenerator\n",
        "\n",
        "# rescaled by 1./255\n",
        "train_datagen = ImageDataGenerator(rescale=1./255)\n",
        "test_datagen = ImageDataGenerator(rescale=1./255)\n",
        "\n",
        "train_generator = train_datagen.flow_from_directory(\n",
        "        # target directory\n",
        "        train_dir,\n",
        "        # size\n",
        "        target_size=(320, 320),\n",
        "        batch_size=20,\n",
        "        class_mode='binary')\n",
        "\n",
        "validation_generator = test_datagen.flow_from_directory(\n",
        "        validation_dir,\n",
        "        target_size=(320, 320),\n",
        "        batch_size=20,\n",
        "        class_mode='binary')"
      ],
      "execution_count": 0,
      "outputs": []
    },
    {
      "cell_type": "code",
      "metadata": {
        "id": "HS7eO0r-V4lA",
        "colab_type": "code",
        "colab": {}
      },
      "source": [
        "# 学習\n",
        "history = model.fit_generator(\n",
        "      train_generator,\n",
        "      steps_per_epoch=100,\n",
        "      epochs=30,\n",
        "      validation_data=validation_generator,\n",
        "      validation_steps=50)"
      ],
      "execution_count": 0,
      "outputs": []
    },
    {
      "cell_type": "code",
      "metadata": {
        "id": "M-HnBlmrV92G",
        "colab_type": "code",
        "colab": {}
      },
      "source": [
        "# 学習済みモデルの保存\n",
        "model.save('mydog_or_otherdogs_02a.h5')"
      ],
      "execution_count": 0,
      "outputs": []
    },
    {
      "cell_type": "markdown",
      "metadata": {
        "id": "8HSGwaxq3yNX",
        "colab_type": "text"
      },
      "source": [
        "### 6 結果"
      ]
    },
    {
      "cell_type": "code",
      "metadata": {
        "id": "I4QpLOumZpTJ",
        "colab_type": "code",
        "colab": {}
      },
      "source": [
        "# 訓練結果グラフ\n",
        "import matplotlib.pyplot as plt\n",
        "\n",
        "acc = history.history['acc']\n",
        "val_acc = history.history['val_acc']\n",
        "loss = history.history['loss']\n",
        "val_loss = history.history['val_loss']\n",
        "\n",
        "epochs = range(len(acc))\n",
        "\n",
        "plt.plot(epochs, acc, 'bo', label='Training acc')\n",
        "plt.plot(epochs, val_acc, 'b', label='Validation acc')\n",
        "plt.title('Training and validation accuracy')\n",
        "plt.legend()\n",
        "\n",
        "plt.figure()\n",
        "\n",
        "plt.plot(epochs, loss, 'bo', label='Training loss')\n",
        "plt.plot(epochs, val_loss, 'b', label='Validation loss')\n",
        "plt.title('Training and validation loss')\n",
        "plt.legend()\n",
        "\n",
        "plt.show()"
      ],
      "execution_count": 0,
      "outputs": []
    },
    {
      "cell_type": "code",
      "metadata": {
        "id": "YrSUWOY1Z2cy",
        "colab_type": "code",
        "colab": {}
      },
      "source": [
        "# テストデータでの検証結果\n",
        "test_datagen = ImageDataGenerator(rescale=1./255)\n",
        "test_generator = test_datagen.flow_from_directory(\n",
        "    test_dir,\n",
        "    target_size=(320,320),\n",
        "    batch_size=50,\n",
        "    class_mode='binary')\n",
        "\n",
        "test_loss, test_acc = model.evaluate_generator(test_generator, steps=50)\n",
        "print('test loss:', test_loss)\n",
        "print('test acc:', test_acc)"
      ],
      "execution_count": 0,
      "outputs": []
    },
    {
      "cell_type": "markdown",
      "metadata": {
        "id": "VpDlVz1id6-V",
        "colab_type": "text"
      },
      "source": [
        "### 7 Data Augumentationありでの学習"
      ]
    },
    {
      "cell_type": "code",
      "metadata": {
        "id": "Kd4DwiRQWR-B",
        "colab_type": "code",
        "colab": {}
      },
      "source": [
        "# 画像データをテンソルに変換\n",
        "# trainデータを水増しする\n",
        "train_datagen = ImageDataGenerator(\n",
        "    rescale=1./255,\n",
        "    rotation_range=40,\n",
        "    width_shift_range=0.2,\n",
        "    height_shift_range=0.2,\n",
        "    shear_range=0.2,\n",
        "    zoom_range=0.2,\n",
        "    horizontal_flip=True,)\n",
        "\n",
        "# validation用とtest用は水増ししない\n",
        "test_datagen = ImageDataGenerator(rescale=1./255)\n",
        "\n",
        "train_generator = train_datagen.flow_from_directory(\n",
        "        # target directory\n",
        "        train_dir,\n",
        "        # size 320x320\n",
        "        target_size=(320, 320),\n",
        "        batch_size=32,\n",
        "        class_mode='binary')\n",
        "\n",
        "validation_generator = test_datagen.flow_from_directory(\n",
        "        validation_dir,\n",
        "        target_size=(320, 320),\n",
        "        batch_size=32,\n",
        "        class_mode='binary')\n",
        "\n",
        "# 学習\n",
        "history = model.fit_generator(\n",
        "      train_generator,\n",
        "      steps_per_epoch=100,\n",
        "      epochs=100,\n",
        "      validation_data=validation_generator,\n",
        "      validation_steps=50)"
      ],
      "execution_count": 0,
      "outputs": []
    },
    {
      "cell_type": "code",
      "metadata": {
        "id": "fmAyETZ-WUel",
        "colab_type": "code",
        "colab": {}
      },
      "source": [
        "# 学習済みモデルの保存\n",
        "model.save('mydog_or_otherdogs_2b.h5')"
      ],
      "execution_count": 0,
      "outputs": []
    },
    {
      "cell_type": "markdown",
      "metadata": {
        "id": "qoyRxYIu5iTq",
        "colab_type": "text"
      },
      "source": [
        "### 8 結果"
      ]
    },
    {
      "cell_type": "code",
      "metadata": {
        "id": "z68EIoz6WXql",
        "colab_type": "code",
        "colab": {}
      },
      "source": [
        "# 訓練結果グラフ\n",
        "acc = history.history['acc']\n",
        "val_acc = history.history['val_acc']\n",
        "loss = history.history['loss']\n",
        "val_loss = history.history['val_loss']\n",
        "\n",
        "epochs = range(len(acc))\n",
        "\n",
        "plt.plot(epochs, acc, 'bo', label='Training acc')\n",
        "plt.plot(epochs, val_acc, 'b', label='Validation acc')\n",
        "plt.title('Training and validation accuracy')\n",
        "plt.legend()\n",
        "\n",
        "plt.figure()\n",
        "\n",
        "plt.plot(epochs, loss, 'bo', label='Training loss')\n",
        "plt.plot(epochs, val_loss, 'b', label='Validation loss')\n",
        "plt.title('Training and validation loss')\n",
        "plt.legend()\n",
        "\n",
        "plt.show()"
      ],
      "execution_count": 0,
      "outputs": []
    },
    {
      "cell_type": "code",
      "metadata": {
        "id": "BxLHrLDPCBrs",
        "colab_type": "code",
        "colab": {}
      },
      "source": [
        "# テストデータでの検証結果\n",
        "test_datagen = ImageDataGenerator(rescale=1./255)\n",
        "test_generator = test_datagen.flow_from_directory(\n",
        "    test_dir,\n",
        "    target_size=(320,320),\n",
        "    batch_size=50,\n",
        "    class_mode='binary')\n",
        "\n",
        "test_loss, test_acc = model.evaluate_generator(test_generator, steps=50)\n",
        "print('test loss:', test_loss)\n",
        "print('test acc:', test_acc)"
      ],
      "execution_count": 0,
      "outputs": []
    }
  ]
}