{
 "cells": [
  {
   "cell_type": "markdown",
   "metadata": {},
   "source": [
    "### 基本ライブラリの読み込み"
   ]
  },
  {
   "cell_type": "code",
   "execution_count": null,
   "metadata": {},
   "outputs": [],
   "source": [
    "# ライブラリの読み込み\n",
    "import numpy as np\n",
    "import pandas as pd"
   ]
  },
  {
   "cell_type": "markdown",
   "metadata": {},
   "source": [
    "### trainデータ"
   ]
  },
  {
   "cell_type": "code",
   "execution_count": null,
   "metadata": {},
   "outputs": [],
   "source": [
    "# 1-1 trainデータフレームの読み込み\n",
    "train_df = pd.read_csv(\"train.tsv\", sep=\"\\t\")\n",
    "train_df.head()"
   ]
  },
  {
   "cell_type": "code",
   "execution_count": null,
   "metadata": {},
   "outputs": [],
   "source": [
    "# 1-2 trainデータを特徴量のみにする\n",
    "trainX = train_df.iloc[:, 2:]\n",
    "trainX.head()"
   ]
  },
  {
   "cell_type": "code",
   "execution_count": null,
   "metadata": {},
   "outputs": [],
   "source": [
    "# 1-3 行数列数の確認\n",
    "trainX.shape"
   ]
  },
  {
   "cell_type": "code",
   "execution_count": null,
   "metadata": {},
   "outputs": [],
   "source": [
    "# 1-4 基本情報の確認\n",
    "trainX.info()"
   ]
  },
  {
   "cell_type": "code",
   "execution_count": null,
   "metadata": {},
   "outputs": [],
   "source": [
    "# 1-5 欠損値チェック\n",
    "trainX.isnull().sum()"
   ]
  },
  {
   "cell_type": "code",
   "execution_count": null,
   "metadata": {},
   "outputs": [],
   "source": [
    "# 1-6 \"stalk-root\"カラムのデータ種別ごと個数の確認\n",
    "trainX[\"stalk-root\"].value_counts()\n",
    "# ？というデータが含まれていることを気にかけながら先へ"
   ]
  },
  {
   "cell_type": "code",
   "execution_count": null,
   "metadata": {},
   "outputs": [],
   "source": [
    "# 1-7 \"stalk-root\"カラムの頭確認\n",
    "trainX[\"stalk-root\"].head()"
   ]
  },
  {
   "cell_type": "code",
   "execution_count": null,
   "metadata": {},
   "outputs": [],
   "source": [
    "# 2-1 文字列を数値に変換\n",
    "# 正解ラベルを数値に変換するための変換表をdictionaryに登録\n",
    "class_mapping_x = { 'a':2, 'b':3, 'c':4,'d':5, 'e':6, 'f':7, 'g':8, 'h':9, 'i':10, 'j':11, 'k':12, 'l':13, 'm':14, 'n':15, 'o':16, 'p':17,'q':18, 'r':19, 's':20, 't':21, 'u':22, 'v':23, 'w':24,'x':25, 'y':26, 'z':27} # ディクショナリ機能を使用し、正解ラベルを数値に紐付けして、変数class_mappingに代入\n",
    "trainX = trainX.copy()\n",
    "\n",
    "# loc関数で'該当'列のみを選択して、変数class_mappingをmap関数で適用する\n",
    "trainX.loc[:,\"cap-shape\"] = trainX[\"cap-shape\"].map(class_mapping_x)\n",
    "trainX.loc[:,\"cap-surface\"] = trainX[\"cap-surface\"].map(class_mapping_x)\n",
    "trainX.loc[:,\"cap-color\"] = trainX[\"cap-color\"].map(class_mapping_x)\n",
    "trainX.loc[:,\"bruises\"] = trainX[\"bruises\"].map(class_mapping_x)\n",
    "trainX.loc[:,\"odor\"] = trainX[\"odor\"].map(class_mapping_x)\n",
    "trainX.loc[:,\"gill-attachment\"] = trainX[\"gill-attachment\"].map(class_mapping_x)\n",
    "trainX.loc[:,\"gill-spacing\"] = trainX[\"gill-spacing\"].map(class_mapping_x)\n",
    "trainX.loc[:,\"gill-size\"] = trainX[\"gill-size\"].map(class_mapping_x)\n",
    "trainX.loc[:,\"gill-color\"] = trainX[\"gill-color\"].map(class_mapping_x)\n",
    "trainX.loc[:,\"stalk-shape\"] = trainX[\"stalk-shape\"].map(class_mapping_x)\n",
    "trainX.loc[:,\"stalk-root\"] = trainX[\"stalk-root\"].map(class_mapping_x)\n",
    "trainX.loc[:,\"stalk-surface-above-ring\"] = trainX[\"stalk-surface-above-ring\"].map(class_mapping_x)\n",
    "trainX.loc[:,\"stalk-surface-below-ring\"] = trainX[\"stalk-surface-below-ring\"].map(class_mapping_x)\n",
    "trainX.loc[:,\"stalk-color-above-ring\"] = trainX[\"stalk-color-above-ring\"].map(class_mapping_x)\n",
    "trainX.loc[:,\"stalk-color-below-ring\"] = trainX[\"stalk-color-below-ring\"].map(class_mapping_x)\n",
    "trainX.loc[:,\"veil-type\"] = trainX[\"veil-type\"].map(class_mapping_x)\n",
    "trainX.loc[:,\"veil-color\"] = trainX[\"veil-color\"].map(class_mapping_x)\n",
    "trainX.loc[:,\"ring-number\"] = trainX[\"ring-number\"].map(class_mapping_x)\n",
    "trainX.loc[:,\"ring-type\"] = trainX[\"ring-type\"].map(class_mapping_x)\n",
    "trainX.loc[:,\"spore-print-color\"] = trainX[\"spore-print-color\"].map(class_mapping_x)\n",
    "trainX.loc[:,\"population\"] = trainX[\"population\"].map(class_mapping_x)\n",
    "trainX.loc[:,\"habitat\"] = trainX[\"habitat\"].map(class_mapping_x)"
   ]
  },
  {
   "cell_type": "code",
   "execution_count": null,
   "metadata": {},
   "outputs": [],
   "source": [
    "# 2-2 結果確認\n",
    "display(trainX.head())"
   ]
  },
  {
   "cell_type": "code",
   "execution_count": null,
   "metadata": {},
   "outputs": [],
   "source": [
    "# 2-3 欠損値が残っていないか確認\n",
    "trainX.isnull().sum()"
   ]
  },
  {
   "cell_type": "code",
   "execution_count": null,
   "metadata": {},
   "outputs": [],
   "source": [
    "# 2-3 \"stalk-root\"カラムのデータバリエーションごとの個数を確認\n",
    "trainX[\"stalk-root\"].value_counts()"
   ]
  },
  {
   "cell_type": "code",
   "execution_count": null,
   "metadata": {},
   "outputs": [],
   "source": [
    "# 2-4 \"stalk-root\"カラムの頭確認\n",
    "trainX[\"stalk-root\"].head()"
   ]
  },
  {
   "cell_type": "code",
   "execution_count": null,
   "metadata": {},
   "outputs": [],
   "source": [
    "# 2-5 imputerを使用して欠損値を平均値で置き換える\n",
    "from sklearn.preprocessing import Imputer\n",
    "\n",
    "# インピュータークラスの実体化\n",
    "# 欠損値'NaN'を平均値(mean)で置き換える,処理は列方向(axis=0)で行う.\n",
    "imp = Imputer(missing_values='NaN',\n",
    "              strategy='mean',\n",
    "              axis=0)\n",
    "\n",
    "# 各特徴量の平均値を学習\n",
    "imp.fit(trainX)\n",
    "\n",
    "# 学習済みのImputerを適用し, X_oheの欠損値を置き換える.\n",
    "trainX_new_columns = trainX.columns.values\n",
    "trainX2 = pd.DataFrame(imp.transform(trainX),\n",
    "                     columns=trainX_new_columns)\n",
    "\n",
    "# 結果表示\n",
    "trainX2.head()"
   ]
  },
  {
   "cell_type": "code",
   "execution_count": null,
   "metadata": {},
   "outputs": [],
   "source": [
    "# 2-6 \"stalk-root\"カラムの欠損値を確認\n",
    "trainX2[\"stalk-root\"].isnull().sum()"
   ]
  },
  {
   "cell_type": "code",
   "execution_count": null,
   "metadata": {},
   "outputs": [],
   "source": [
    "# 2-7 \"stalk-root\"カラムのデータバリエーションごとの個数を確認\n",
    "trainX2[\"stalk-root\"].value_counts()"
   ]
  },
  {
   "cell_type": "code",
   "execution_count": null,
   "metadata": {},
   "outputs": [],
   "source": [
    "# 3-1 目的関数のみを切り出してyに代入する\n",
    "y = train_df.iloc[:, [1]]\n",
    "y.head()"
   ]
  },
  {
   "cell_type": "code",
   "execution_count": null,
   "metadata": {},
   "outputs": [],
   "source": [
    "# 3-2 文字列を数値に変換\n",
    "# 正解ラベルの数値変換\n",
    "class_mapping_y = {'p':1, 'e':0} # ディクショナリ機能を使用し、正解ラベルを数値に紐付けして、変数class_mappingに代入\n",
    "y = y.copy()\n",
    "\n",
    "# loc関数で'loan_Status'列のみを選択して、変数class_mappingをmap関数で適用する\n",
    "y.loc[:,'Y'] = y['Y'].map(class_mapping_y)\n",
    "\n",
    "display(trainX2.join(y).head())"
   ]
  },
  {
   "cell_type": "markdown",
   "metadata": {},
   "source": [
    "### testデータ"
   ]
  },
  {
   "cell_type": "code",
   "execution_count": null,
   "metadata": {},
   "outputs": [],
   "source": [
    "# 4-1 testデータフレームの読み込み\n",
    "test_df = pd.read_csv(\"test.tsv\" ,sep=\"\\t\")\n",
    "test_df.head()"
   ]
  },
  {
   "cell_type": "code",
   "execution_count": null,
   "metadata": {},
   "outputs": [],
   "source": [
    "# 4-2 testデータを特徴量のみにする\n",
    "testX = test_df.iloc[:, 1:]\n",
    "testX.head()"
   ]
  },
  {
   "cell_type": "code",
   "execution_count": null,
   "metadata": {},
   "outputs": [],
   "source": [
    "# 4-3 行数列数の確認\n",
    "testX.shape"
   ]
  },
  {
   "cell_type": "code",
   "execution_count": null,
   "metadata": {},
   "outputs": [],
   "source": [
    "# 4-4 基本情報の確認\n",
    "testX.info()"
   ]
  },
  {
   "cell_type": "code",
   "execution_count": null,
   "metadata": {},
   "outputs": [],
   "source": [
    "# 4-5 欠損値チェック\n",
    "testX.isnull().sum()"
   ]
  },
  {
   "cell_type": "code",
   "execution_count": null,
   "metadata": {},
   "outputs": [],
   "source": [
    "# 4-6 \"stalk-root\"カラムのデータ種別ごと個数の確認\n",
    "testX[\"stalk-root\"].value_counts()\n",
    "# ？というデータが含まれていることを気にかけながら先へ"
   ]
  },
  {
   "cell_type": "code",
   "execution_count": null,
   "metadata": {},
   "outputs": [],
   "source": [
    "# 4-7 \"stalk-root\"カラムの頭確認\n",
    "testX[\"stalk-root\"].head()"
   ]
  },
  {
   "cell_type": "code",
   "execution_count": null,
   "metadata": {},
   "outputs": [],
   "source": [
    "# 5-1 文字列を数値に変換\n",
    "# 正解ラベルを数値に変換するための変換表をdictionaryに登録\n",
    "class_mapping_x = { 'a':2, 'b':3, 'c':4,'d':5, 'e':6, 'f':7, 'g':8, 'h':9, 'i':10, 'j':11, 'k':12, 'l':13, 'm':14, 'n':15, 'o':16, 'p':17,'q':18, 'r':19, 's':20, 't':21, 'u':22, 'v':23, 'w':24,'x':25, 'y':26, 'z':27} # ディクショナリ機能を使用し、正解ラベルを数値に紐付けして、変数class_mapping_xに代入\n",
    "testX = testX.copy()\n",
    "\n",
    "# loc関数で'該当'列のみを選択して、変数class_mappingをmap関数で適用する\n",
    "testX.loc[:,\"cap-shape\"] = testX[\"cap-shape\"].map(class_mapping_x)\n",
    "testX.loc[:,\"cap-surface\"] = testX[\"cap-surface\"].map(class_mapping_x)\n",
    "testX.loc[:,\"cap-color\"] = testX[\"cap-color\"].map(class_mapping_x)\n",
    "testX.loc[:,\"bruises\"] = testX[\"bruises\"].map(class_mapping_x)\n",
    "testX.loc[:,\"odor\"] = testX[\"odor\"].map(class_mapping_x)\n",
    "testX.loc[:,\"gill-attachment\"] = testX[\"gill-attachment\"].map(class_mapping_x)\n",
    "testX.loc[:,\"gill-spacing\"] = testX[\"gill-spacing\"].map(class_mapping_x)\n",
    "testX.loc[:,\"gill-size\"] = testX[\"gill-size\"].map(class_mapping_x)\n",
    "testX.loc[:,\"gill-color\"] = testX[\"gill-color\"].map(class_mapping_x)\n",
    "testX.loc[:,\"stalk-shape\"] = testX[\"stalk-shape\"].map(class_mapping_x)\n",
    "testX.loc[:,\"stalk-root\"] = testX[\"stalk-root\"].map(class_mapping_x)\n",
    "testX.loc[:,\"stalk-surface-above-ring\"] = testX[\"stalk-surface-above-ring\"].map(class_mapping_x)\n",
    "testX.loc[:,\"stalk-surface-below-ring\"] = testX[\"stalk-surface-below-ring\"].map(class_mapping_x)\n",
    "testX.loc[:,\"stalk-color-above-ring\"] = testX[\"stalk-color-above-ring\"].map(class_mapping_x)\n",
    "testX.loc[:,\"stalk-color-below-ring\"] = testX[\"stalk-color-below-ring\"].map(class_mapping_x)\n",
    "testX.loc[:,\"veil-type\"] = testX[\"veil-type\"].map(class_mapping_x)\n",
    "testX.loc[:,\"veil-color\"] = testX[\"veil-color\"].map(class_mapping_x)\n",
    "testX.loc[:,\"ring-number\"] = testX[\"ring-number\"].map(class_mapping_x)\n",
    "testX.loc[:,\"ring-type\"] = testX[\"ring-type\"].map(class_mapping_x)\n",
    "testX.loc[:,\"spore-print-color\"] = testX[\"spore-print-color\"].map(class_mapping_x)\n",
    "testX.loc[:,\"population\"] = testX[\"population\"].map(class_mapping_x)\n",
    "testX.loc[:,\"habitat\"] = testX[\"habitat\"].map(class_mapping_x)"
   ]
  },
  {
   "cell_type": "code",
   "execution_count": null,
   "metadata": {},
   "outputs": [],
   "source": [
    "# 5-2 結果確認\n",
    "display(testX.head())"
   ]
  },
  {
   "cell_type": "code",
   "execution_count": null,
   "metadata": {},
   "outputs": [],
   "source": [
    "# 5-3 欠損値が残っていないか確認\n",
    "testX.isnull().sum()"
   ]
  },
  {
   "cell_type": "code",
   "execution_count": null,
   "metadata": {},
   "outputs": [],
   "source": [
    "# 5-4 \"stalk-root\"カラムのデータバリエーションごとの個数を確認\n",
    "testX[\"stalk-root\"].value_counts()"
   ]
  },
  {
   "cell_type": "code",
   "execution_count": null,
   "metadata": {},
   "outputs": [],
   "source": [
    "# 5-5 \"stalk-root\"カラムの頭確認\n",
    "testX[\"stalk-root\"].head()"
   ]
  },
  {
   "cell_type": "code",
   "execution_count": null,
   "metadata": {},
   "outputs": [],
   "source": [
    "# 5-6 imputerを使用して欠損値を平均値で置き換える\n",
    "\n",
    "# インピュータークラスの実体化\n",
    "# 欠損値'NaN'を平均値(mean)で置き換える,処理は列方向(axis=0)で行う.\n",
    "# imp = Imputer(missing_values='NaN',\n",
    "#               strategy='mean',\n",
    "#               axis=0)\n",
    "\n",
    "# 各特徴量の平均値を学習\n",
    "imp.fit(testX)\n",
    "\n",
    "# 学習済みのImputerを適用し, X_oheの欠損値を置き換える.\n",
    "testX_new_columns = testX.columns.values\n",
    "testX2 = pd.DataFrame(imp.transform(testX),\n",
    "                     columns=testX_new_columns)\n",
    "\n",
    "# 結果表示\n",
    "testX2.head()"
   ]
  },
  {
   "cell_type": "code",
   "execution_count": null,
   "metadata": {},
   "outputs": [],
   "source": [
    "# 5-7 \"stalk-root\"カラムの欠損値を確認\n",
    "testX2[\"stalk-root\"].isnull().sum()"
   ]
  },
  {
   "cell_type": "code",
   "execution_count": null,
   "metadata": {},
   "outputs": [],
   "source": [
    "# 5-8 \"stalk-root\"カラムのデータバリエーションごとの個数を確認\n",
    "testX2[\"stalk-root\"].value_counts()"
   ]
  },
  {
   "cell_type": "markdown",
   "metadata": {},
   "source": [
    "### 交差検証"
   ]
  },
  {
   "cell_type": "code",
   "execution_count": null,
   "metadata": {},
   "outputs": [],
   "source": [
    "# 6-1 trainXを交差検証\n",
    "from sklearn.model_selection import train_test_split\n",
    "# Holdout\n",
    "X_train,X_test,y_train,y_test = train_test_split(trainX2,\n",
    "                                                 y,\n",
    "                                                 test_size=0.30,\n",
    "                                                 random_state=1)"
   ]
  },
  {
   "cell_type": "code",
   "execution_count": null,
   "metadata": {},
   "outputs": [],
   "source": [
    "# 6-2 整形\n",
    "y_train = y_train.values.ravel()\n",
    "y_test = y_test.values.ravel()"
   ]
  },
  {
   "cell_type": "code",
   "execution_count": null,
   "metadata": {},
   "outputs": [],
   "source": [
    "# 6-3 import libraries\n",
    "from sklearn.preprocessing import StandardScaler # 《標準化》スタンダードスケラー\n",
    "from sklearn.neighbors import KNeighborsClassifier # 《分類》K近傍法\n",
    "from sklearn.linear_model import LogisticRegression # 《分類》ロジスティック回帰\n",
    "from sklearn.ensemble import RandomForestClassifier,GradientBoostingClassifier #  《分類》ランダム森、勾配ブースティング\n",
    "from sklearn.neural_network import MLPClassifier # 《分類》多層ニューラルネットワーク\n",
    "from sklearn.pipeline import Pipeline # 《一本化》パイプライン"
   ]
  },
  {
   "cell_type": "code",
   "execution_count": null,
   "metadata": {},
   "outputs": [],
   "source": [
    "# 6-4 set pipelines for two different algorithms\n",
    "pipe_KNC = Pipeline([('scl',StandardScaler()),\n",
    "                     ('est',KNeighborsClassifier())])\n",
    "pipe_LR = Pipeline([('scl',StandardScaler()),\n",
    "                          ('est',LogisticRegression(random_state=1))])\n",
    "pipe_RF = Pipeline([('scl',StandardScaler()),\n",
    "                    ('est',RandomForestClassifier(random_state=1))])\n",
    "pipe_GB = Pipeline([('scl',StandardScaler()),\n",
    "                    ('est',GradientBoostingClassifier(random_state=1))])\n",
    "pipe_MLP = Pipeline([('scl',StandardScaler()),\n",
    "                    ('est',MLPClassifier(hidden_layer_sizes=(5,3),max_iter=500,random_state=1))])"
   ]
  },
  {
   "cell_type": "code",
   "execution_count": null,
   "metadata": {},
   "outputs": [],
   "source": [
    "# 6-5 optimize the parameters of each algorithms\n",
    "pipe_KNC.fit(X_train, y_train)\n",
    "pipe_LR.fit(X_train, y_train)\n",
    "pipe_RF.fit(X_train, y_train)\n",
    "pipe_GB.fit(X_train, y_train)\n",
    "pipe_MLP.fit(X_train, y_train)"
   ]
  },
  {
   "cell_type": "code",
   "execution_count": 39,
   "metadata": {},
   "outputs": [
    {
     "name": "stdout",
     "output_type": "stream",
     "text": [
      "pipe_KNC_Train:1.000\n",
      "pipe_KNC_Test:1.000\n",
      "pipe_LR_Train:0.959\n",
      "pipe_LR_Test:0.962\n",
      "pipe_RF_Train:1.000\n",
      "pipe_RF_Test:1.000\n",
      "pipe_GB_Train:1.000\n",
      "pipe_GB_Test:1.000\n",
      "pipe_MLP_Train:1.000\n",
      "pipe_MLP_Test:1.000\n"
     ]
    }
   ],
   "source": [
    "#6-6 f1スコアで比較\n",
    "from sklearn.metrics import f1_score\n",
    "\n",
    "print('pipe_KNC_Train:%.3f'% f1_score(y_train,\n",
    "                                          pipe_KNC.predict(X_train)))\n",
    "print('pipe_KNC_Test:%.3f' % f1_score(y_test,\n",
    "                                          pipe_KNC.predict(X_test)))\n",
    "\n",
    "print('pipe_LR_Train:%.3f'% f1_score(y_train,\n",
    "                                          pipe_LR.predict(X_train)))\n",
    "print('pipe_LR_Test:%.3f' % f1_score(y_test,\n",
    "                                          pipe_LR.predict(X_test)))\n",
    "\n",
    "print('pipe_RF_Train:%.3f'% f1_score(y_train,\n",
    "                                          pipe_RF.predict(X_train)))\n",
    "print('pipe_RF_Test:%.3f' % f1_score(y_test,\n",
    "                                          pipe_RF.predict(X_test)))\n",
    "\n",
    "print('pipe_GB_Train:%.3f'% f1_score(y_train,\n",
    "                                          pipe_GB.predict(X_train)))\n",
    "print('pipe_GB_Test:%.3f' % f1_score(y_test,\n",
    "                                          pipe_GB.predict(X_test)))\n",
    "\n",
    "print('pipe_MLP_Train:%.3f'% f1_score(y_train,\n",
    "                                          pipe_MLP.predict(X_train)))\n",
    "print('pipe_MLP_Test:%.3f' % f1_score(y_test,\n",
    "                                          pipe_MLP.predict(X_test)))"
   ]
  },
  {
   "cell_type": "code",
   "execution_count": null,
   "metadata": {},
   "outputs": [],
   "source": [
    "# 6-7 アルゴリズムの採用\n",
    "# 'RF'(random-forest)を採用\n",
    "\n",
    "# predictで算出した値を変数predに代入する\n",
    "pred = pipe_RF.predict(testX2)\n",
    "pred"
   ]
  },
  {
   "cell_type": "markdown",
   "metadata": {},
   "source": [
    "### 提出用データ作成"
   ]
  },
  {
   "cell_type": "code",
   "execution_count": null,
   "metadata": {},
   "outputs": [],
   "source": [
    "# 7-1 提出用csvファイルの読み込み\n",
    "sample = pd.read_csv(\"sample_submit.csv\",header=None)\n",
    "sample.head()"
   ]
  },
  {
   "cell_type": "code",
   "execution_count": null,
   "metadata": {},
   "outputs": [],
   "source": [
    "# 7-2 行数列数の確認\n",
    "sample.shape"
   ]
  },
  {
   "cell_type": "code",
   "execution_count": null,
   "metadata": {},
   "outputs": [],
   "source": [
    "# 7-3 array形で格納されているpredをDataFrame型に変換\n",
    "pred_df = pd.DataFrame(pred)\n",
    "pred_df.head()"
   ]
  },
  {
   "cell_type": "code",
   "execution_count": null,
   "metadata": {},
   "outputs": [],
   "source": [
    "# 7-4 数値を文字列に変換\n",
    "# 提出用データは'e'と'p'でデータを入力する必要があるため数値から文字列に変換する。\n",
    "# 正解ラベルの数値数値変換\n",
    "class_mapping_y2 = {1:'p', 0:'e'} # ディクショナリ機能を使用し、正解ラベルを数値に紐付けして、変数class_mappingに代入\n",
    "pred_df = pred_df.copy()\n",
    "\n",
    "# loc関数で'loan_Status'列のみを選択して、変数class_mappingをmap関数で適用する\n",
    "pred_df.iloc[:,0] = pred_df[0].map(class_mapping_y2)\n",
    "\n",
    "display(pred_df.head())"
   ]
  },
  {
   "cell_type": "code",
   "execution_count": null,
   "metadata": {},
   "outputs": [],
   "source": [
    "# 7-5 提出用csvの正解カラムにpredを代入\n",
    "sample[1] = pred_df\n",
    "sample.head()"
   ]
  },
  {
   "cell_type": "markdown",
   "metadata": {},
   "source": [
    "### csvファイルの書き出し"
   ]
  },
  {
   "cell_type": "code",
   "execution_count": null,
   "metadata": {},
   "outputs": [],
   "source": [
    "# 7-6 提出用データをcsv形式で出力\n",
    "sample.to_csv(\"submit0.csv\",index=None,header=None)"
   ]
  }
 ],
 "metadata": {
  "kernelspec": {
   "display_name": "Python 3",
   "language": "python",
   "name": "python3"
  },
  "language_info": {
   "codemirror_mode": {
    "name": "ipython",
    "version": 3
   },
   "file_extension": ".py",
   "mimetype": "text/x-python",
   "name": "python",
   "nbconvert_exporter": "python",
   "pygments_lexer": "ipython3",
   "version": "3.6.5"
  }
 },
 "nbformat": 4,
 "nbformat_minor": 2
}
